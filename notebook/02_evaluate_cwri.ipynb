{
 "cells": [
  {
   "cell_type": "code",
   "execution_count": 1,
   "metadata": {},
   "outputs": [],
   "source": [
    "import glob\n",
    "import pandas as pd \n",
    "import numpy as np\n",
    "import os\n",
    "from sklearn.metrics import recall_score, precision_score, f1_score, accuracy_score, jaccard_score\n",
    "\n",
    "# pandas maxcolumns\n",
    "pd.set_option('display.max_columns', 500)\n",
    "pd.set_option('display.max_rows', 500)"
   ]
  },
  {
   "cell_type": "markdown",
   "metadata": {},
   "source": [
    "# We provide the minimal code to evaluate the CWRI results"
   ]
  },
  {
   "cell_type": "code",
   "execution_count": 5,
   "metadata": {},
   "outputs": [
    {
     "name": "stdout",
     "output_type": "stream",
     "text": [
      "[1 1 0 0 0 0 0 0 0 0 0 0 1 1 1 1 1 1 1 1 0 0 1 1 0 0 0 0 0 0 1 1 0 0 1 1 1\n",
      " 1 1 1 0 0 0 0 1 1 0 0 0 0 1 1 1 1 0 0 1 1 1 1 0 0 0 0 0 0 1 1 0 0 1 1 1 1\n",
      " 1 1 0 0 1 1 0 0 0 0 0 0 0 0 1 1 1 1 1 1 1 1 1 1 0 0]\n"
     ]
    }
   ],
   "source": [
    "# load answer sheet from google drive and place under data folder\n",
    "answer_sheet = pd.read_csv('../data/answer_sheet.csv', index_col=0)\n",
    "answer_sheet = answer_sheet.values.flatten()\n",
    "print(answer_sheet)"
   ]
  },
  {
   "cell_type": "markdown",
   "metadata": {},
   "source": [
    "# Random Evaluation"
   ]
  },
  {
   "cell_type": "code",
   "execution_count": 4,
   "metadata": {},
   "outputs": [
    {
     "name": "stdout",
     "output_type": "stream",
     "text": [
      "f1: 0.495 ± 0.058\n",
      "jaccard: 0.331 ± 0.051\n",
      "Interpret accuracy: 0.498 ± 0.052\n",
      "recall: 0.494 ± 0.071\n",
      "precision: 0.498 ± 0.053\n"
     ]
    }
   ],
   "source": [
    "# generate random array filled with 1 or zero\n",
    "\n",
    "recall_list = []\n",
    "precision_list = []\n",
    "f1_list = []\n",
    "accuracy_list = []\n",
    "jaccard_list = []\n",
    "\n",
    "for i in range(1000):\n",
    "    random_array = np.random.randint(2, size=answer_sheet.shape) # random array filled with 0 or 1. In practice, this would be the binarized output of class-wise importance from your model \n",
    "    recall = recall_score(answer_sheet, random_array)\n",
    "    precision = precision_score(answer_sheet, random_array)\n",
    "    f1 = f1_score(answer_sheet, random_array)\n",
    "    accuracy = accuracy_score(answer_sheet, random_array)\n",
    "    jaccard = jaccard_score(answer_sheet, random_array)\n",
    "\n",
    "    recall_list.append(recall)\n",
    "    precision_list.append(precision)\n",
    "    f1_list.append(f1)\n",
    "    accuracy_list.append(accuracy)\n",
    "    jaccard_list.append(jaccard)\n",
    "    \n",
    "\n",
    "print(f\"f1: {np.mean(f1_list):.3f} ± {np.std(f1_list):.3f}\")\n",
    "print(f\"jaccard: {np.mean(jaccard_list):.3f} ± {np.std(jaccard_list):.3f}\")\n",
    "print(f\"Interpret accuracy: {np.mean(accuracy_list):.3f} ± {np.std(accuracy_list):.3f}\")\n",
    "print(f\"recall: {np.mean(recall_list):.3f} ± {np.std(recall_list):.3f}\")\n",
    "print(f\"precision: {np.mean(precision_list):.3f} ± {np.std(precision_list):.3f}\")\n"
   ]
  },
  {
   "cell_type": "code",
   "execution_count": 6,
   "metadata": {},
   "outputs": [
    {
     "name": "stdout",
     "output_type": "stream",
     "text": [
      "[0 0 1 1 1 1 1 1 1 1 1 1 0 0 0 0 0 0 0 0 1 1 0 0 1 1 1 1 1 1 0 0 1 1 0 0 0\n",
      " 0 0 0 1 1 1 1 0 0 1 1 1 1 0 0 0 0 1 1 0 0 0 0 1 1 1 1 1 1 0 0 1 1 0 0 0 0\n",
      " 0 0 1 1 0 0 1 1 1 1 1 1 1 1 0 0 0 0 0 0 0 0 0 0 1 1]\n"
     ]
    }
   ],
   "source": [
    "# Calculate the same metrics with the reversed answer sheet\n",
    "reversed_answer_sheet = 1 - answer_sheet\n",
    "print(reversed_answer_sheet)"
   ]
  },
  {
   "cell_type": "code",
   "execution_count": 7,
   "metadata": {},
   "outputs": [
    {
     "name": "stdout",
     "output_type": "stream",
     "text": [
      "f1: 0.497 ± 0.057\n",
      "jaccard: 0.332 ± 0.050\n",
      "Interpret accuracy: 0.498 ± 0.050\n",
      "recall: 0.499 ± 0.072\n",
      "precision: 0.498 ± 0.051\n"
     ]
    }
   ],
   "source": [
    "# generate random array filled with 1 or zero\n",
    "\n",
    "recall_list = []\n",
    "precision_list = []\n",
    "f1_list = []\n",
    "accuracy_list = []\n",
    "jaccard_list = []\n",
    "\n",
    "for i in range(1000):\n",
    "    random_array = np.random.randint(2, size=reversed_answer_sheet.shape) # random array filled with 0 or 1. In practice, this would be the binarized output of class-wise importance from your model \n",
    "    recall = recall_score(reversed_answer_sheet, random_array)\n",
    "    precision = precision_score(reversed_answer_sheet, random_array)\n",
    "    f1 = f1_score(reversed_answer_sheet, random_array)\n",
    "    accuracy = accuracy_score(reversed_answer_sheet, random_array)\n",
    "    jaccard = jaccard_score(reversed_answer_sheet, random_array)\n",
    "\n",
    "    recall_list.append(recall)\n",
    "    precision_list.append(precision)\n",
    "    f1_list.append(f1)\n",
    "    accuracy_list.append(accuracy)\n",
    "    jaccard_list.append(jaccard)\n",
    "    \n",
    "\n",
    "print(f\"f1: {np.mean(f1_list):.3f} ± {np.std(f1_list):.3f}\")\n",
    "print(f\"jaccard: {np.mean(jaccard_list):.3f} ± {np.std(jaccard_list):.3f}\")\n",
    "print(f\"Interpret accuracy: {np.mean(accuracy_list):.3f} ± {np.std(accuracy_list):.3f}\")\n",
    "print(f\"recall: {np.mean(recall_list):.3f} ± {np.std(recall_list):.3f}\")\n",
    "print(f\"precision: {np.mean(precision_list):.3f} ± {np.std(precision_list):.3f}\")\n"
   ]
  },
  {
   "cell_type": "markdown",
   "metadata": {},
   "source": [
    "### In our paper, we reported the result which yielded the highest f1 score\n",
    "\n",
    "Please check our `Appendix E: Evaluation of CWRI Metrics` for further explanation."
   ]
  }
 ],
 "metadata": {
  "kernelspec": {
   "display_name": "vit",
   "language": "python",
   "name": "python3"
  },
  "language_info": {
   "codemirror_mode": {
    "name": "ipython",
    "version": 3
   },
   "file_extension": ".py",
   "mimetype": "text/x-python",
   "name": "python",
   "nbconvert_exporter": "python",
   "pygments_lexer": "ipython3",
   "version": "3.10.13"
  },
  "orig_nbformat": 4
 },
 "nbformat": 4,
 "nbformat_minor": 2
}
